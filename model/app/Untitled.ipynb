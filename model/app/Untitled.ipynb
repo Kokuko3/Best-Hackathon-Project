{
 "cells": [
  {
   "cell_type": "code",
   "execution_count": 2,
   "id": "30521f02-e3b9-4f6b-a635-77b4497cfa58",
   "metadata": {},
   "outputs": [
    {
     "ename": "ModuleNotFoundError",
     "evalue": "No module named 'librosa'",
     "output_type": "error",
     "traceback": [
      "\u001b[0;31m---------------------------------------------------------------------------\u001b[0m",
      "\u001b[0;31mModuleNotFoundError\u001b[0m                       Traceback (most recent call last)",
      "Cell \u001b[0;32mIn[2], line 1\u001b[0m\n\u001b[0;32m----> 1\u001b[0m \u001b[38;5;28;01mimport\u001b[39;00m \u001b[38;5;21;01mlibrosa\u001b[39;00m\n\u001b[1;32m      2\u001b[0m \u001b[38;5;28;01mimport\u001b[39;00m \u001b[38;5;21;01mlibrosa\u001b[39;00m\u001b[38;5;21;01m.\u001b[39;00m\u001b[38;5;21;01mdisplay\u001b[39;00m\n\u001b[1;32m      3\u001b[0m \u001b[38;5;28;01mimport\u001b[39;00m \u001b[38;5;21;01mmatplotlib\u001b[39;00m\u001b[38;5;21;01m.\u001b[39;00m\u001b[38;5;21;01mpyplot\u001b[39;00m \u001b[38;5;28;01mas\u001b[39;00m \u001b[38;5;21;01mplt\u001b[39;00m\n",
      "\u001b[0;31mModuleNotFoundError\u001b[0m: No module named 'librosa'"
     ]
    }
   ],
   "source": [
    "import librosa\n",
    "import librosa.display\n",
    "import matplotlib.pyplot as plt\n",
    "import numpy as np\n",
    "\n",
    "# Load the .wav file\n",
    "file_path = \"data/B_ANI01_MC_FN_SIM01_101.wav\"\n",
    "y, sr = librosa.load(file_path, sr=None)  # Load with original sampling rate\n",
    "\n",
    "# Compute the spectrogram\n",
    "D = librosa.amplitude_to_db(np.abs(librosa.stft(y)), ref=np.max)\n",
    "\n",
    "# Plot the spectrogram\n",
    "plt.figure(figsize=(10, 4))\n",
    "librosa.display.specshow(D, sr=sr, x_axis=\"time\", y_axis=\"log\")\n",
    "plt.colorbar(format=\"%+2.0f dB\")\n",
    "plt.title(\"Spectrogram\")\n",
    "plt.xlabel(\"Time\")\n",
    "plt.ylabel(\"Frequency (log scale)\")\n",
    "plt.show()"
   ]
  },
  {
   "cell_type": "code",
   "execution_count": null,
   "id": "9dc1ffce-2f08-4145-978e-608e56958d26",
   "metadata": {},
   "outputs": [],
   "source": [
    "# Import numpy library for numerical operations\n",
    "import numpy as np\n",
    "# Import torch library for building and training neural networks\n",
    "import torch\n",
    "# Import nn module from torch for building neural network layers\n",
    "from torch import nn\n",
    "# Import torch multiprocessing module for parallel processing\n",
    "import torch.multiprocessing\n",
    "# Import datasets and transforms modules from torchvision for loading and transforming image datasets\n",
    "from torchvision import datasets, transforms\n",
    "# Import SummaryWriter module from torch.utils.tensorboard for logging to TensorBoard\n",
    "from torch.utils.tensorboard import SummaryWriter\n",
    "# Import summary function from torchsummary for displaying model summary\n",
    "from torchsummary import summary\n",
    "# Import torchvision library for image processing\n",
    "import torchvision\n",
    "# Import pyplot module from matplotlib for plotting graphs\n",
    "import matplotlib.pyplot as plt\n",
    "# Import tqdm module for displaying progress bars\n",
    "from tqdm.auto import tqdm\n",
    "# Import default_timer function from timeit for measuring time taken for model training\n",
    "from timeit import default_timer as timer\n",
    "\n",
    "writer_path = 'runs/log_file_tensorboard'\n",
    "# writer to log to tensorboard\n",
    "writer = SummaryWriter(writer_path)"
   ]
  },
  {
   "cell_type": "code",
   "execution_count": null,
   "id": "343c3951-e6eb-4839-8b09-6d2837714b29",
   "metadata": {},
   "outputs": [],
   "source": []
  },
  {
   "cell_type": "code",
   "execution_count": null,
   "id": "6e9bf75d-da8f-4de9-beb4-cdd207c4bc2e",
   "metadata": {},
   "outputs": [],
   "source": []
  }
 ],
 "metadata": {
  "kernelspec": {
   "display_name": "Python 3 (ipykernel)",
   "language": "python",
   "name": "python3"
  },
  "language_info": {
   "codemirror_mode": {
    "name": "ipython",
    "version": 3
   },
   "file_extension": ".py",
   "mimetype": "text/x-python",
   "name": "python",
   "nbconvert_exporter": "python",
   "pygments_lexer": "ipython3",
   "version": "3.10.13"
  }
 },
 "nbformat": 4,
 "nbformat_minor": 5
}
